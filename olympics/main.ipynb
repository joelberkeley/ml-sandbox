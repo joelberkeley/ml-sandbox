{
 "cells": [
  {
   "cell_type": "markdown",
   "metadata": {},
   "source": [
    "# Predicting olympic athletes' performance"
   ]
  },
  {
   "cell_type": "code",
   "execution_count": 2,
   "metadata": {},
   "outputs": [
    {
     "name": "stderr",
     "output_type": "stream",
     "text": [
      "Using TensorFlow backend.\n"
     ]
    }
   ],
   "source": [
    "from sklearn.model_selection import train_test_split\n",
    "\n",
    "from keras import models, layers, optimizers\n",
    "from keras.utils.np_utils import to_categorical\n",
    "\n",
    "import numpy as np\n",
    "import pandas as pd\n",
    "import matplotlib.pyplot as plt\n",
    "\n",
    "import os"
   ]
  },
  {
   "cell_type": "markdown",
   "metadata": {},
   "source": [
    "### Preprocess the data"
   ]
  },
  {
   "cell_type": "code",
   "execution_count": 32,
   "metadata": {},
   "outputs": [
    {
     "data": {
      "text/html": [
       "<div>\n",
       "<style scoped>\n",
       "    .dataframe tbody tr th:only-of-type {\n",
       "        vertical-align: middle;\n",
       "    }\n",
       "\n",
       "    .dataframe tbody tr th {\n",
       "        vertical-align: top;\n",
       "    }\n",
       "\n",
       "    .dataframe thead th {\n",
       "        text-align: right;\n",
       "    }\n",
       "</style>\n",
       "<table border=\"1\" class=\"dataframe\">\n",
       "  <thead>\n",
       "    <tr style=\"text-align: right;\">\n",
       "      <th></th>\n",
       "      <th>Sex</th>\n",
       "      <th>Age</th>\n",
       "      <th>Height</th>\n",
       "      <th>Weight</th>\n",
       "      <th>Team</th>\n",
       "      <th>NOC</th>\n",
       "      <th>Year</th>\n",
       "      <th>Season</th>\n",
       "      <th>Sport</th>\n",
       "      <th>Medal</th>\n",
       "    </tr>\n",
       "  </thead>\n",
       "  <tbody>\n",
       "    <tr>\n",
       "      <th>0</th>\n",
       "      <td>1</td>\n",
       "      <td>-0.243510</td>\n",
       "      <td>0.900</td>\n",
       "      <td>0.80</td>\n",
       "      <td>-0.708269</td>\n",
       "      <td>-1.099228</td>\n",
       "      <td>0.455910</td>\n",
       "      <td>0</td>\n",
       "      <td>-1.436746</td>\n",
       "      <td>0.0</td>\n",
       "    </tr>\n",
       "    <tr>\n",
       "      <th>1</th>\n",
       "      <td>1</td>\n",
       "      <td>-0.399918</td>\n",
       "      <td>0.850</td>\n",
       "      <td>0.60</td>\n",
       "      <td>-0.708269</td>\n",
       "      <td>-1.099228</td>\n",
       "      <td>1.125307</td>\n",
       "      <td>0</td>\n",
       "      <td>-1.348747</td>\n",
       "      <td>0.0</td>\n",
       "    </tr>\n",
       "    <tr>\n",
       "      <th>2</th>\n",
       "      <td>1</td>\n",
       "      <td>-0.243510</td>\n",
       "      <td>0.000</td>\n",
       "      <td>0.00</td>\n",
       "      <td>-0.698777</td>\n",
       "      <td>-1.078900</td>\n",
       "      <td>-1.953919</td>\n",
       "      <td>0</td>\n",
       "      <td>-1.260748</td>\n",
       "      <td>0.0</td>\n",
       "    </tr>\n",
       "    <tr>\n",
       "      <th>3</th>\n",
       "      <td>1</td>\n",
       "      <td>1.320563</td>\n",
       "      <td>0.000</td>\n",
       "      <td>0.00</td>\n",
       "      <td>-0.689285</td>\n",
       "      <td>-1.078900</td>\n",
       "      <td>-2.623316</td>\n",
       "      <td>0</td>\n",
       "      <td>-1.172749</td>\n",
       "      <td>3.0</td>\n",
       "    </tr>\n",
       "    <tr>\n",
       "      <th>4</th>\n",
       "      <td>0</td>\n",
       "      <td>-0.712732</td>\n",
       "      <td>0.925</td>\n",
       "      <td>0.82</td>\n",
       "      <td>-0.679793</td>\n",
       "      <td>-1.058572</td>\n",
       "      <td>0.322031</td>\n",
       "      <td>1</td>\n",
       "      <td>-1.084749</td>\n",
       "      <td>0.0</td>\n",
       "    </tr>\n",
       "    <tr>\n",
       "      <th>5</th>\n",
       "      <td>0</td>\n",
       "      <td>-0.712732</td>\n",
       "      <td>0.925</td>\n",
       "      <td>0.82</td>\n",
       "      <td>-0.679793</td>\n",
       "      <td>-1.058572</td>\n",
       "      <td>0.322031</td>\n",
       "      <td>1</td>\n",
       "      <td>-1.084749</td>\n",
       "      <td>0.0</td>\n",
       "    </tr>\n",
       "    <tr>\n",
       "      <th>6</th>\n",
       "      <td>0</td>\n",
       "      <td>-0.087103</td>\n",
       "      <td>0.925</td>\n",
       "      <td>0.82</td>\n",
       "      <td>-0.679793</td>\n",
       "      <td>-1.058572</td>\n",
       "      <td>0.455910</td>\n",
       "      <td>1</td>\n",
       "      <td>-1.084749</td>\n",
       "      <td>0.0</td>\n",
       "    </tr>\n",
       "    <tr>\n",
       "      <th>7</th>\n",
       "      <td>0</td>\n",
       "      <td>-0.087103</td>\n",
       "      <td>0.925</td>\n",
       "      <td>0.82</td>\n",
       "      <td>-0.679793</td>\n",
       "      <td>-1.058572</td>\n",
       "      <td>0.455910</td>\n",
       "      <td>1</td>\n",
       "      <td>-1.084749</td>\n",
       "      <td>0.0</td>\n",
       "    </tr>\n",
       "    <tr>\n",
       "      <th>8</th>\n",
       "      <td>0</td>\n",
       "      <td>0.225712</td>\n",
       "      <td>0.925</td>\n",
       "      <td>0.82</td>\n",
       "      <td>-0.679793</td>\n",
       "      <td>-1.058572</td>\n",
       "      <td>0.522850</td>\n",
       "      <td>1</td>\n",
       "      <td>-1.084749</td>\n",
       "      <td>0.0</td>\n",
       "    </tr>\n",
       "    <tr>\n",
       "      <th>9</th>\n",
       "      <td>0</td>\n",
       "      <td>0.225712</td>\n",
       "      <td>0.925</td>\n",
       "      <td>0.82</td>\n",
       "      <td>-0.679793</td>\n",
       "      <td>-1.058572</td>\n",
       "      <td>0.522850</td>\n",
       "      <td>1</td>\n",
       "      <td>-1.084749</td>\n",
       "      <td>0.0</td>\n",
       "    </tr>\n",
       "  </tbody>\n",
       "</table>\n",
       "</div>"
      ],
      "text/plain": [
       "   Sex       Age  Height  Weight      Team       NOC      Year  Season  \\\n",
       "0    1 -0.243510   0.900    0.80 -0.708269 -1.099228  0.455910       0   \n",
       "1    1 -0.399918   0.850    0.60 -0.708269 -1.099228  1.125307       0   \n",
       "2    1 -0.243510   0.000    0.00 -0.698777 -1.078900 -1.953919       0   \n",
       "3    1  1.320563   0.000    0.00 -0.689285 -1.078900 -2.623316       0   \n",
       "4    0 -0.712732   0.925    0.82 -0.679793 -1.058572  0.322031       1   \n",
       "5    0 -0.712732   0.925    0.82 -0.679793 -1.058572  0.322031       1   \n",
       "6    0 -0.087103   0.925    0.82 -0.679793 -1.058572  0.455910       1   \n",
       "7    0 -0.087103   0.925    0.82 -0.679793 -1.058572  0.455910       1   \n",
       "8    0  0.225712   0.925    0.82 -0.679793 -1.058572  0.522850       1   \n",
       "9    0  0.225712   0.925    0.82 -0.679793 -1.058572  0.522850       1   \n",
       "\n",
       "      Sport  Medal  \n",
       "0 -1.436746    0.0  \n",
       "1 -1.348747    0.0  \n",
       "2 -1.260748    0.0  \n",
       "3 -1.172749    3.0  \n",
       "4 -1.084749    0.0  \n",
       "5 -1.084749    0.0  \n",
       "6 -1.084749    0.0  \n",
       "7 -1.084749    0.0  \n",
       "8 -1.084749    0.0  \n",
       "9 -1.084749    0.0  "
      ]
     },
     "metadata": {},
     "output_type": "display_data"
    },
    {
     "name": "stdout",
     "output_type": "stream",
     "text": [
      "The number of each medal as a proportion of all medals is as follows\n"
     ]
    },
    {
     "data": {
      "text/html": [
       "<div>\n",
       "<style scoped>\n",
       "    .dataframe tbody tr th:only-of-type {\n",
       "        vertical-align: middle;\n",
       "    }\n",
       "\n",
       "    .dataframe tbody tr th {\n",
       "        vertical-align: top;\n",
       "    }\n",
       "\n",
       "    .dataframe thead th {\n",
       "        text-align: right;\n",
       "    }\n",
       "</style>\n",
       "<table border=\"1\" class=\"dataframe\">\n",
       "  <thead>\n",
       "    <tr style=\"text-align: right;\">\n",
       "      <th></th>\n",
       "      <th>Medal</th>\n",
       "    </tr>\n",
       "  </thead>\n",
       "  <tbody>\n",
       "    <tr>\n",
       "      <th>0.0</th>\n",
       "      <td>0.853262</td>\n",
       "    </tr>\n",
       "    <tr>\n",
       "      <th>1.0</th>\n",
       "      <td>0.049038</td>\n",
       "    </tr>\n",
       "    <tr>\n",
       "      <th>2.0</th>\n",
       "      <td>0.048378</td>\n",
       "    </tr>\n",
       "    <tr>\n",
       "      <th>3.0</th>\n",
       "      <td>0.049322</td>\n",
       "    </tr>\n",
       "  </tbody>\n",
       "</table>\n",
       "</div>"
      ],
      "text/plain": [
       "        Medal\n",
       "0.0  0.853262\n",
       "1.0  0.049038\n",
       "2.0  0.048378\n",
       "3.0  0.049322"
      ]
     },
     "metadata": {},
     "output_type": "display_data"
    }
   ],
   "source": [
    "df = pd.read_csv(os.getcwd() + '/res/athlete_events.csv')\n",
    "\n",
    "# ID & Name are irrelevant to performance\n",
    "# Games is covered by Year and Season\n",
    "# We won't cover Event or City for now\n",
    "df = df.drop(columns=['ID', 'Name', 'Event', 'Games', 'City'])\n",
    "\n",
    "### Map all string values to int\n",
    "\n",
    "# Start by gathering all values present in dataset\n",
    "\n",
    "sports = df['Sport'].unique().tolist()\n",
    "teams = df['Team'].unique().tolist()\n",
    "nocs = df['NOC'].unique().tolist()\n",
    "medals = ['Bronze', 'Silver', 'Gold']\n",
    "\n",
    "# Map values to ints\n",
    "\n",
    "# Note we're assuming anyone without a specified medal didn't get one (by filling NaN with 0).\n",
    "# However, this might not be the case - some NaNs could correspond to missing data\n",
    "df['Medal'] = df['Medal'].map(lambda m: medals.index(m) + 1, na_action='ignore').fillna(0)\n",
    "\n",
    "df['Sex'] = df['Sex'].map(lambda s: 0 if s == 'F' else 1)\n",
    "df['Season'] = df['Season'].map(lambda s: 0 if s == 'Summer' else 1)\n",
    "df['Sport'] = df['Sport'].map(lambda s: sports.index(s))\n",
    "df['Team'] = df['Team'].map(lambda t: teams.index(t))\n",
    "df['NOC'] = df['NOC'].map(lambda c: nocs.index(c))\n",
    "\n",
    "### Normalise data\n",
    "\n",
    "# Where values are already in the range [-1, 1] we will leave the columns unchanged\n",
    "# Otherwise, we will shift and scale to mean 0 and std 1\n",
    "# Columnds Height and Weight are missing values. We will return to these\n",
    "\n",
    "mean_and_std = {}  # store mean and std for each column for use in preprocessing future data\n",
    "for col in ('Age', 'Team', 'NOC', 'Year', 'Sport'):\n",
    "    mean = df[col].mean()\n",
    "    std = df[col].std()\n",
    "    mean_and_std[col] = (mean, std)\n",
    "    df[col] -= mean\n",
    "    df[col] /= std\n",
    "\n",
    "# Fill NaNs for Height and Weight with 0, a number well outside the typical ranges\n",
    "for col in ('Height', 'Weight'):\n",
    "    df[col] = df[col].fillna(0)\n",
    "\n",
    "# Scale Height and Weight to be in the range [0, 1]\n",
    "df['Height'] /= 200\n",
    "df['Weight'] /= 100\n",
    "\n",
    "# Show dataframe\n",
    "display(df.head(10))\n",
    "\n",
    "print(\"The number of each medal as a proportion of all medals is as follows\")\n",
    "display(pd.DataFrame(df['Medal'].value_counts()).sort_index() / df['Medal'].shape[0])\n",
    "\n",
    "# Split target column Medal, and ...\n",
    "# Convert dataframes to numpy arrays\n",
    "# Convert target values to categorical\n",
    "y = to_categorical(df['Medal'].values)\n",
    "X = df.drop(columns=['Medal']).values\n",
    "\n",
    "# Train test split. We shuffle to reduce chance of bias caused by initial ordering of rows\n",
    "X_train, X_test, y_train, y_test = train_test_split(X, y, test_size=0.33, random_state=101, shuffle=True)"
   ]
  },
  {
   "cell_type": "markdown",
   "metadata": {},
   "source": [
    "### Define network for single-label multiclass classification"
   ]
  },
  {
   "cell_type": "code",
   "execution_count": 51,
   "metadata": {},
   "outputs": [
    {
     "name": "stdout",
     "output_type": "stream",
     "text": [
      "Train on 163482 samples, validate on 18165 samples\n",
      "Epoch 1/10\n",
      "163482/163482 [==============================] - 1s 7us/step - loss: 1.3167 - acc: 0.8528 - val_loss: 1.2446 - val_acc: 0.8525\n",
      "Epoch 2/10\n",
      "163482/163482 [==============================] - 1s 6us/step - loss: 1.1657 - acc: 0.8538 - val_loss: 1.0856 - val_acc: 0.8525\n",
      "Epoch 3/10\n",
      "163482/163482 [==============================] - 1s 6us/step - loss: 1.0029 - acc: 0.8538 - val_loss: 0.9229 - val_acc: 0.8525\n",
      "Epoch 4/10\n",
      "163482/163482 [==============================] - 1s 6us/step - loss: 0.8456 - acc: 0.8538 - val_loss: 0.7754 - val_acc: 0.8525\n",
      "Epoch 5/10\n",
      "163482/163482 [==============================] - 1s 6us/step - loss: 0.7132 - acc: 0.8538 - val_loss: 0.6629 - val_acc: 0.8525\n",
      "Epoch 6/10\n",
      "163482/163482 [==============================] - 1s 6us/step - loss: 0.6237 - acc: 0.8538 - val_loss: 0.5994 - val_acc: 0.8525\n",
      "Epoch 7/10\n",
      "163482/163482 [==============================] - 1s 6us/step - loss: 0.5844 - acc: 0.8538 - val_loss: 0.5825 - val_acc: 0.8525\n",
      "Epoch 8/10\n",
      "163482/163482 [==============================] - 1s 6us/step - loss: 0.5777 - acc: 0.8538 - val_loss: 0.5811 - val_acc: 0.8525\n",
      "Epoch 9/10\n",
      "163482/163482 [==============================] - 1s 6us/step - loss: 0.5770 - acc: 0.8538 - val_loss: 0.5807 - val_acc: 0.8525\n",
      "Epoch 10/10\n",
      "163482/163482 [==============================] - 1s 6us/step - loss: 0.5767 - acc: 0.8538 - val_loss: 0.5805 - val_acc: 0.8525\n"
     ]
    }
   ],
   "source": [
    "model = models.Sequential()\n",
    "\n",
    "model.add(layers.Dense(8, activation='relu', input_dim=9))\n",
    "model.add(layers.Dense(8, activation='relu'))\n",
    "model.add(layers.Dense(4, activation='softmax'))\n",
    "\n",
    "model.compile(optimizer=optimizers.RMSprop(lr=10**-4),\n",
    "              loss='categorical_crossentropy',\n",
    "              metrics=['accuracy'])\n",
    "\n",
    "hist = model.fit(X_train, y_train, epochs=10, batch_size=256, validation_split=0.1, shuffle=True)"
   ]
  },
  {
   "cell_type": "markdown",
   "metadata": {},
   "source": [
    "### Plot training and validation loss"
   ]
  },
  {
   "cell_type": "code",
   "execution_count": 52,
   "metadata": {},
   "outputs": [
    {
     "data": {
      "image/png": "[encoded data removed]",
      "text/plain": [
       "<Figure size 432x288 with 1 Axes>"
      ]
     },
     "metadata": {},
     "output_type": "display_data"
    }
   ],
   "source": [
    "start_epoch = 0\n",
    "\n",
    "loss = hist.history['loss'][start_epoch:]\n",
    "val_loss = hist.history['val_loss'][start_epoch:]\n",
    "\n",
    "epochs = range(1, len(loss) + 1)\n",
    "\n",
    "plt.plot(epochs, loss, 'bo', label='Training loss')\n",
    "plt.plot(epochs, val_loss, 'b', label='Validation loss')\n",
    "plt.title('Training and validation loss')\n",
    "plt.xlabel('Epoch')\n",
    "plt.ylabel('Loss')\n",
    "plt.legend()\n",
    "\n",
    "plt.show()"
   ]
  },
  {
   "cell_type": "markdown",
   "metadata": {},
   "source": [
    "##### Evaluate model on test data"
   ]
  },
  {
   "cell_type": "code",
   "execution_count": 47,
   "metadata": {},
   "outputs": [
    {
     "name": "stdout",
     "output_type": "stream",
     "text": [
      "89469/89469 [==============================] - 1s 14us/step\n"
     ]
    },
    {
     "data": {
      "text/plain": [
       "[0.5807272912888517, 0.8524069789549364]"
      ]
     },
     "execution_count": 47,
     "metadata": {},
     "output_type": "execute_result"
    }
   ],
   "source": [
    "model.evaluate(X_test, y_test)"
   ]
  },
  {
   "cell_type": "markdown",
   "metadata": {},
   "source": [
    "## Analysis"
   ]
  },
  {
   "cell_type": "markdown",
   "metadata": {},
   "source": [
    "If we predict a random athlete will not win any medal, we have an 85.33% chance of being correct. Thus, our model currently does not predict, but is purely overfitting. Should there indeed be a correlation between input and target data, further work is required to achieve prediction."
   ]
  },
  {
   "cell_type": "code",
   "execution_count": null,
   "metadata": {},
   "outputs": [],
   "source": []
  }
 ],
 "metadata": {
  "kernelspec": {
   "display_name": "Python 3",
   "language": "python",
   "name": "python3"
  },
  "language_info": {
   "codemirror_mode": {
    "name": "ipython",
    "version": 3
   },
   "file_extension": ".py",
   "mimetype": "text/x-python",
   "name": "python",
   "nbconvert_exporter": "python",
   "pygments_lexer": "ipython3",
   "version": "3.6.5"
  }
 },
 "nbformat": 4,
 "nbformat_minor": 2
}
